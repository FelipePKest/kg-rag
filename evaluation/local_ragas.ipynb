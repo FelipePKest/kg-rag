{
 "cells": [
  {
   "cell_type": "code",
   "execution_count": 2,
   "metadata": {},
   "outputs": [
    {
     "data": {
      "text/plain": [
       "True"
      ]
     },
     "execution_count": 2,
     "metadata": {},
     "output_type": "execute_result"
    }
   ],
   "source": [
    "from dotenv import load_dotenv\n",
    "import os \n",
    "\n",
    "load_dotenv(\".env\", override=True)\n",
    "# print(os.environ.get(\"NEO4J_URI\"))"
   ]
  },
  {
   "cell_type": "code",
   "execution_count": 5,
   "metadata": {},
   "outputs": [],
   "source": [
    "from langchain_community.chat_models import ChatOllama\n",
    "from langchain_community.embeddings import OllamaEmbeddings\n",
    "from langchain_openai import OpenAIEmbeddings, ChatOpenAI\n",
    "\n",
    "api_key = os.environ.get(\"OPENAI_API_KEY\")\n",
    "\n",
    "critic_llm = ChatOpenAI(base_url=\"http://localhost:1234/v1\", api_key=\"lm-studio\")\n",
    "generator_llm = ChatOllama(model=\"llama3\")\n",
    "langchain_embedding = OpenAIEmbeddings(api_key=api_key)\n",
    "# langchain_embedding = OllamaEmbeddings(model=\"ollama3\")"
   ]
  },
  {
   "cell_type": "code",
   "execution_count": 8,
   "metadata": {},
   "outputs": [
    {
     "data": {
      "text/plain": [
       "AIMessage(content=\"Once upon a time, in a small village nestled in the rolling hills of Provence, France, there lived a young girl named Sophie. She was a curious and adventurous child, with a mop of curly brown hair and a smile that could light up the entire village.\\n\\nSophie loved to explore the surrounding countryside, where she would spend hours chasing after butterflies and picking wildflowers for her mother's famous bouquets. But Sophie had a special talent - she was a master baker. She spent every spare moment in her family's small bakery, learning the secrets of traditional French bread-making from her father, Pierre.\\n\\nAs the summer solstice approached, Sophie's village was preparing for its annual Fête de la Saint-Pierre. The entire community would come together to celebrate the patron saint of fishermen, with music, dance, and of course, an abundance of delicious food.\\n\\nSophie knew that she had to create something truly special for the fête. She spent hours experimenting with different recipes, trying out new flavors and techniques until finally, she hit upon a brilliant idea - a majestic croquembouche, a towering structure made from layers of creamy choux pastry and caramelized sugar.\\n\\nWith the help of her father and sister, Sophie set to work on the croquembouche, carefully piping each layer into place. As they worked, the aroma of buttery dough and sweet caramel filled the air, making everyone's mouth water in anticipation.\\n\\nFinally, the day of the fête arrived. The village square was packed with people from all over the region, all gathered to taste Sophie's masterpiece. And when she unveiled her croquembouche, the crowd gasped in amazement - it was a towering work of art, shimmering and golden in the sunlight.\\n\\nThe villagers cheered and clapped as Sophie carefully broke off pieces of the croquembouche, offering them to the crowd with a beaming smile. And from that day on, Sophie's bakery was famous throughout the region, known for its incredible pastries and the young girl behind them - the most talented baker in all of Provence.\", response_metadata={'token_usage': {'completion_tokens': 427, 'prompt_tokens': 428, 'total_tokens': 855}, 'model_name': 'gpt-3.5-turbo', 'system_fingerprint': None, 'finish_reason': 'stop', 'logprobs': None}, id='run-9fa8a758-b203-413c-a018-e880f78145e3-0')"
      ]
     },
     "execution_count": 8,
     "metadata": {},
     "output_type": "execute_result"
    }
   ],
   "source": [
    "critic_llm.invoke(\"Tell me a medium sized story\")"
   ]
  },
  {
   "cell_type": "code",
   "execution_count": null,
   "metadata": {},
   "outputs": [],
   "source": [
    "from ragas.metrics import context_precision, faithfulness, answer_relevancy, context_recall"
   ]
  },
  {
   "cell_type": "code",
   "execution_count": 10,
   "metadata": {},
   "outputs": [],
   "source": [
    "from langchain_community.graphs import Neo4jGraph\n",
    "\n",
    "\n",
    "aura_host = os.environ.get('NEO4J_AURA_URL')\n",
    "aura_user = os.environ.get('NEO4J_AURA_USER')\n",
    "aura_password = os.environ.get('NEO4J_AURA_PASS')\n",
    "\n",
    "\n",
    "graph_db = Neo4jGraph(url=aura_host, username=aura_user, password=aura_password)"
   ]
  },
  {
   "cell_type": "code",
   "execution_count": 12,
   "metadata": {},
   "outputs": [
    {
     "name": "stdout",
     "output_type": "stream",
     "text": [
      "Santa Clara (Portugal) OWES_MONEY Atlético- MG\n",
      "Vasco OWES_MONEY Atlético- MG\n",
      "Flamengo OWES_MONEY Atlético- MG\n",
      "Ceará OWES_MONEY Atlético- MG\n",
      "Fluminense OWES_MONEY Atlético- MG\n",
      "Cruzeiro INTERESTED_IN_SIGNING Gabriel Grando\n",
      "Gabriel Grando PLAYS_FOR Cruzeiro\n",
      "Gabriel Grando LOANED_FROM Grêmio\n",
      "Gabriel Grando HAS_POSTINGS musics and love songs\n",
      "Gabriel Grando NEEDS_CONFIDENCE Cruzeiro\n",
      "MLS (Estados Unidos) OWES_MONEY Atlético- MG\n",
      "Santos HAS_PLAYER Fábio Carille\n",
      "Santos HAS_PLAYER Vinicius Balieiro\n",
      "Santos HAS_PLAYER Bruno Marques\n",
      "Santos HAS_PLAYER Dodô\n",
      "Santos OWES_MONEY Atlético- MG\n",
      "Santos WANTS_TO_SIGN Jair e Pedrinho\n",
      "Santos MAY_SIGN João Basso, Nathan, Lucas Pires and Carabajal\n",
      "Fortaleza PLAYED_AGAINST Vasco\n",
      "Fortaleza OWES_MONEY Atlético- MG\n",
      "Juventude OWES_MONEY Atlético- MG\n",
      "Pumas (México) OWES_MONEY Atlético- MG\n",
      "Bahia OWES_MONEY Atlético- MG\n",
      "São Paulo WORKS_WITH Welington\n",
      "São Paulo OWES_MONEY Atlético- MG\n",
      "São Paulo MAY_LOSE Welington\n",
      "Allan TRANSFERRED_TO Flamengo\n",
      "Metalist (Ucrânia) OWES_MONEY Atlético- MG\n",
      "Juventus (Itália) OWES_MONEY Atlético- MG\n",
      "Eike Immel PLAYED_FOR Borussia Dortmund\n",
      "Eike Immel PLAYED_FOR Alemanha\n",
      "Eike Immel PLAYED_FOR Stuttgart\n",
      "Eike Immel PLAYED_FOR Manchester City\n",
      "Eike Immel DEPENDS_ON Social Benefits\n",
      "Júnnior Batata SCORED_GOAL Sousa\n",
      "Ayrton Senna HOMENAGEA Sousa\n",
      "Luan Cândido SCORED_GOAL Massa Bruta\n",
      "Sousa PLAYED_AGAINST Bragantino\n",
      "Tandara Caixeta VIOLATES_SUSPENSION Ostarina\n",
      "Tandara Caixeta VIOLATES_SUSPENSION Brasileiro Master de vôlei\n",
      "Tandara Caixeta IS_SUSPENDED 2021-07-01\n",
      "Vitória de Guimarães EMPLOYED_BY Álvaro Pacheco\n",
      "Cuiabá PLAYS_IN Copa do Brasil\n",
      "Álvaro Pacheco WORKS_FOR Vitória de Guimarães\n",
      "Álvaro Pacheco MAY_LEAVE Vitória de Guimarães\n",
      "Álvaro Pacheco MAY_JOIN Cuiabá\n",
      "Thiago Galhardo PLAYS_FOR Goiás\n",
      "Thiago Galhardo SCORED_GOAL Cuiabá\n",
      "Goiás PLAYS_IN Série B\n",
      "Danilo Barbosa PLAYS_FOR Botafogo\n",
      "Corinthians HAS_UNIFORM 2024\n",
      "Corinthians WILL_PLAY_AGAINST Fortaleza\n",
      "Corinthians PARTNERED_WITH Nike\n",
      "Corinthians FIGHTS_AGAINST Racism\n",
      "Corinthians WON_MATCH 2-1\n",
      "Vitinho PLAYS_FOR RB Bragantino\n",
      "Cacá PLAYS_FOR Corinthians\n",
      "Marco Reus PLAYS_FOR Borussia Dortmund\n",
      "Marco Reus LEAVES Borussia Dortmund\n",
      "Centauro PRODUCES_PRODUCT Camisa do Sport\n",
      "Sport HAS_UNIFORM Nova camisa do Sport\n",
      "Sport ORGANIZES_EVENT Lançamento oficial do novo uniforme\n",
      "Sport HAS_HISTORICAL_EMBLEM escudo histórico\n",
      "Julio Furch AVAILABLE_FOR_GAME Santos FC\n",
      "Gil PROBABLE_STARTING_LINEUP Santos FC\n",
      "Giuliano PROBABLE_STARTING_LINEUP Santos FC\n",
      "Pedrinho AVAILABLE_FOR_GAME Santos FC\n",
      "Joaquim PROBABLE_STARTING_LINEUP Santos FC\n",
      "Otero PROBABLE_STARTING_LINEUP Santos FC\n",
      "Diego Pituca PROBABLE_STARTING_LINEUP Santos FC\n",
      "João Schmidt PROBABLE_STARTING_LINEUP Santos FC\n",
      "Escobar PROBABLE_STARTING_LINEUP Santos FC\n",
      "Guilherme PROBABLE_STARTING_LINEUP Santos FC\n",
      "João Paulo PROBABLE_STARTING_LINEUP Santos FC\n",
      "Fábio Carille COMMANDED_ACTIVITY Santos FC\n",
      "JP Chermont PROBABLE_STARTING_LINEUP Santos FC\n",
      "Morelos LIKELY_TO_BE_STARTING_LINEUP Santos FC\n",
      "Xavi COACHES Barcelona\n",
      "Xavi WANTS_REVENGE Girona\n",
      "Xavi CONFIDENT_IN_PLAYER Vitor Roque\n",
      "Real Madrid LEADS_COMPETITION Cádiz\n",
      "Barcelona PLAYS_AGAINST Girona\n",
      "Girona OPPONENTS Barcelona\n",
      "CSKA (Russia) WAS_NEGOTIATED_WITH Welington\n",
      "Welington MAY_TRANSFER_TO Europa\n",
      "Enzo Alves PLAYS_FOR Real Madrid\n",
      "Marcelo PLAYS_FOR Fluminense\n",
      "Marcelo WILL_PLAY_AGAINST Atlético-MG\n",
      "Peixe WANTS_TO_SIGN recém-contratados\n",
      "Patrick Beverley HAD_DISPUTE fans of Indiana Pacers\n",
      "Patrick Beverley THREW_BALL_AT fans of Indiana Pacers\n",
      "Pedro Lourenço DEFINED_POSITIONS_FOR_CONTRACTING_'TITULARES' Cruzeiro\n",
      "Pedro Lourenço IDENTIFIED_NEED_FOR_AT_LEAST_FOUR_NAMES_IN_THE_NEXT_WINDOW Cruzeiro\n",
      "Pedro Lourenço NAMED_INTEGRANTS_OF_THE_COMMISSION_RESPONSIBLE_FOR_ANALYZING_THE_SALE_OF_SAF_BY_RONALDO Cruzeiro\n",
      "Pedro Lourenço WANTS_TO_CONTRACT_NAMES_CAPABLE_OF_IMPROVING_THE_LEVEL_OF_THE_TEAM'S_TITLE Cruzeiro\n",
      "Pedro Lourenço BUYER_OF Ronaldo\n",
      "Papagaio ONE_OF_THE_OPTIONS Cruzeiro\n",
      "Ronaldo SAID_THAT_CRUZEIRO_WAS_LIKE_'QUARTO_DE_HOSPITAL' Cruzeiro\n",
      "Ronaldo SELLER_OF Pedro Lourenço\n",
      "Rafa Silva ONE_OF_THE_OPTIONS Cruzeiro\n",
      "Dinenno NEEDS_PHYSICAL_CONDITIONING Cruzeiro\n",
      "Anderson NEEDS_CONFIDENCE Cruzeiro\n",
      "Botafogo-SP PLAYS_AGAINST Palmeiras\n",
      "Palmeiras BEATS Botafogo-SP\n",
      "Michael PLAYS_FOR Botafogo-SP\n",
      "Michael MAKES_ERROR Palmeiras\n",
      "Aí veio o convite do Brasil de Pelotas, mas foi gratificante, porque depois disso eu vim para o Criciúma. RECEIVED_AN_OFFER_FROM Brasil de Pelotas\n",
      "Mas antes disso, entre 2019 e 2020, ficou quase um ano desempregado. WAS_UNEMPLOYED_FOR_ALMOST_A_YEAR_BETWEEN 2019 and 2020\n",
      "Todo mundo acha que resiliência é só você se tornar resistente, mas não, você tem que ser resistente mas maleável. IS_SAYING_THAT_RESILIENCE_IS_NOT_JUST_ABOUT_BEING_RESISTANT,_BUT_ALSO_ABOUT_BEING_ADAPTABLE Concept\n",
      "O futebol exige resiliência - acrescenta. IS_SAYING_THAT_FOOTBALL_REQUIRES_RESILIENCE Football\n",
      "Ele está no comando do Criciúma desde 2021 HAS_BEEN_THE_HEAD_COACH_OF Criciúma\n",
      "Conduziu a equipe catarinense da Série C até a elite do futebol brasileiro. LED_THE_TEAM_TO Elite of Brazilian football\n",
      "Técnico destaque de abril, Cláudio Tencati relembra trajetória com desemprego em 2020: \"Resiliência\" IS_A_COACH_OF Criciúma\n",
      "Durante o tempo longe do futebol, a palavra resiliência guiou o técnico carvoeiro até às novas oportunidades. WAS_GUIDED_BY_THE_CONCEPT_OF_RESILIENCE_DURING_THEIR_TIME_AWAY_FROM_FOOTBALL New opportunities\n",
      "Depois que eu sai do Vitória foram seis meses desempregado, aí juntou com a pandemia, início de 2020, quando juntou tudo isso eu fiquei quase um ano parado. WAS_UNEMPLOYED_FOR_SIX_MONTHS_AFTER_LEAVING Vitória\n",
      "Estamos colhendo frutos de um trabalho árduo - conta. IS_SAYING_THAT_THE_TEAM_IS_REAPING_THE_REWARDS_OF_THEIR_HARD_WORK Criciúma\n",
      "Eleito técnico destaque do mês de abril pelo Sportv, Cláudio Tencati está no comando do Criciúmadesde 2021. WAS_ELECTED_AS_THE_BEST_COACH_OF_THE_MONTH_BY Sportv\n",
      "João Chianca VENCERAM Challenger de Gold Coast\n",
      "Michael Rodrigues VENCERAM Dylan Moffat\n",
      "Ian Gouveia VENCERAM Alejo Muniz\n",
      "Samuel Pupo VENCERAM Jacob Willcox\n",
      "Facundo Labandeira CREATED_CHANCE Jorginho\n",
      "João Neto PLAYED_FOR Fluminense\n",
      "João Neto SCORED_GOAL CRB\n",
      "CRB PLAYED_AGAINST Ceará\n",
      "Jorginho CREATED_CHANCE João Neto\n",
      "Gabriel Jesus WANTS_TO_STAY Arsenal\n",
      "Arsenal MAY_SELL Gabriel Jesus\n",
      "Esposa de jogador brasileiro OWNS Ferrari Portofino\n",
      "Dyego Sousa HUSBAND_OF Esposa de jogador brasileiro\n",
      "Ferrari Portofino DESTROYED_IN Acidente em Madri\n",
      "Luciano Santos Lopes MEMBER_OF Cruzeiro\n",
      "João Paulo Fanucchi de Almeida Melo MEMBER_OF Cruzeiro\n",
      "Tiago Fantini Magalhães MEMBER_OF SAF\n",
      "Marcos Lincoln Padilha dos Santos MEMBER_OF Cruzeiro\n",
      "Silvio Mendes Arrudaão MEMBER_OF Cruzeiro\n",
      "Amazonas PLAYS_AGAINST Flamengo\n",
      "Wesley Couto HEAD_OF Amazonas\n",
      "Wesley Couto CONFIDENT_IN Amazonas\n",
      "Betis OWNS Johnny\n",
      "Johnny TARGETED_BY Atlético de Madrid\n",
      "Johnny TARGETED_BY Barcelona\n",
      "Johnny OWNED_BY Betis\n",
      "Inter OWNS Johnny\n",
      "Yannick Bolasie PLAYS_FOR Criciúma\n",
      "Yannick Bolasie PLAYS_VIDEOGAME FIFA\n",
      "Caio Max Augusto Vieira REFERS_MATCH Vasco x Criciúma\n",
      "Petit WORKS_FOR Cuiabá\n",
      "Petit WILL_BE_THE_TREINADOR_OF Cuiabá\n",
      "Petit HAS_EXPERIENCE_AS_TREINADOR_OF Boavista\n",
      "Luis Zubeldía WORKS_FOR São Paulo\n",
      "Juan Pablo Vojvoda WORKS_FOR Fortaleza\n",
      "António Oliveira WORKS_FOR Corinthians\n",
      "Abel Ferreira WORKS_FOR Palmeiras\n",
      "Artur Jorge WORKS_FOR Botafogo\n",
      "Pedro Caixinha WORKS_FOR Bragantino\n",
      "Sean Loeffler CONVICTED_OF two years of prison\n",
      "Sean Loeffler HAD_CONTRACT_WITH UFC\n",
      "Sean Loeffler FAILED_TO_PERFORM due to injury\n",
      "UFC HAD_CONTRACT_WITH Sean Loeffler\n",
      "Bellator HAD_CONTRACT_WITH Sean Loeffler\n",
      "Toni Kroos MAKES_PASS Vinicius Junior\n",
      "Bayern de Munique PLAYS_AGAINST Real Madrid\n",
      "Thomas Müller REACTS_TO Toni Kroos's pass to Vinicius Junior\n",
      "Léo Jardim PLAYS_FOR Vasco\n",
      "Léo Jardim MADE_DEFENSES Copa do Brasil\n",
      "Paulo Pelaipe WORKS_FOR Cruzeiro\n",
      "Alexandre Mattos HEAD_OF Cruzeiro\n",
      "Edu Dracena WORKS_FOR Cruzeiro\n",
      "Souza TOOK_FALTA direita\n",
      "VAR ANALYZED_GOL América- RN\n",
      "América- RN PLAYED_AGAINST Corinthians\n",
      "Ferreira PERFORMED_ACTION cabeceou\n",
      "Hulk PLAYS_FOR Atlético-MG\n",
      "Saravia PLAYS_FOR Atlético-MG\n",
      "Paulinho PLAYS_FOR Atlético-MG\n",
      "Jemerson PLAYS_FOR Atlético-MG\n",
      "Bruno Fuchs REPLACES Jemerson\n",
      "Gabriel Milito RODS_TEAM Atlético-MG\n",
      "São Jorge BLESSED_BY Mario Alberto\n",
      "Juliana Viana REPRESENTS Piauí\n",
      "Juliana Viana WILL_PARTICIPATE_IN Olimpíadas de Paris 2024\n",
      "Juliana Viana WILL_PARTICIPATE_IN Badminton\n",
      "Ygor Coelho REPRESENTS Brazil\n",
      "Roger Machado's group WILL_RETURN_TO_WORK on Saturday\n",
      "Juventude SUSPENDED_ACTIVITIES due to rain in Serra do RS region\n",
      "Juventude RETURNED_HOME due to road blockage in Porto Alegre\n",
      "Eduardo Leite DESCRIBED_SITUATION as the largest disaster in the state's history\n",
      "NBA REPORTED_ERROR Tyrese Maxey's play\n",
      "Tyrese Maxey PLAYED_FOR Philadelphia 76ers\n",
      "Tyrese Maxey SCORED Philadelphia 76ers\n",
      "Philadelphia 76ers PLAYED_AGAINST New York Knicks\n",
      "Cristiano Dresch IS_THE_PRESIDENT_OF Cuiabá\n"
     ]
    }
   ],
   "source": [
    "from langchain_core.documents import Document\n",
    "\n",
    "langchain_data = {}\n",
    "documents = []\n",
    "\n",
    "result = graph_db.query('''MATCH (subject)-[predicate]->(object) WHERE NOT (subject:Document)\n",
    "RETURN toString(subject.id) + \" \" + type(predicate) + \" \" + toString(object.id) AS triple''')\n",
    "n_results = len(result)\n",
    "for record in result:\n",
    "    # print(record)\n",
    "    str_record = str(record[\"triple\"])\n",
    "    print(str_record)\n",
    "    doc = Document(str_record)\n",
    "    documents.append(doc)\n",
    "    \n",
    "graph_db._driver.close()"
   ]
  },
  {
   "cell_type": "code",
   "execution_count": 13,
   "metadata": {},
   "outputs": [
    {
     "name": "stderr",
     "output_type": "stream",
     "text": [
      "c:\\Users\\felip\\anaconda3\\envs\\local-ragas\\Lib\\site-packages\\tqdm\\auto.py:21: TqdmWarning: IProgress not found. Please update jupyter and ipywidgets. See https://ipywidgets.readthedocs.io/en/stable/user_install.html\n",
      "  from .autonotebook import tqdm as notebook_tqdm\n"
     ]
    },
    {
     "name": "stdout",
     "output_type": "stream",
     "text": [
      "Adding documents\n",
      "Adding nodes\n",
      "Waiting for executor to finish\n",
      "Creating executor job=====================================\n"
     ]
    },
    {
     "name": "stderr",
     "output_type": "stream",
     "text": [
      "embedding nodes:   0%|          | 0/386 [00:00<?, ?it/s]"
     ]
    }
   ],
   "source": [
    "from ragas.testset import TestsetGenerator\n",
    "from ragas.testset.evolutions import simple, reasoning, multi_context\n",
    "\n",
    "generator = TestsetGenerator.from_langchain(\n",
    "    generator_llm,\n",
    "    critic_llm,\n",
    "    langchain_embedding\n",
    ")\n",
    "\n",
    "distribution = {simple: 1}\n",
    "question_types = len(distribution.keys())\n",
    "testset = generator.generate_with_langchain_docs(documents, test_size=question_types*n_results, distributions={simple: 1})\n"
   ]
  },
  {
   "cell_type": "code",
   "execution_count": null,
   "metadata": {},
   "outputs": [
    {
     "data": {
      "text/html": [
       "<div>\n",
       "<style scoped>\n",
       "    .dataframe tbody tr th:only-of-type {\n",
       "        vertical-align: middle;\n",
       "    }\n",
       "\n",
       "    .dataframe tbody tr th {\n",
       "        vertical-align: top;\n",
       "    }\n",
       "\n",
       "    .dataframe thead th {\n",
       "        text-align: right;\n",
       "    }\n",
       "</style>\n",
       "<table border=\"1\" class=\"dataframe\">\n",
       "  <thead>\n",
       "    <tr style=\"text-align: right;\">\n",
       "      <th></th>\n",
       "      <th>question</th>\n",
       "      <th>contexts</th>\n",
       "      <th>ground_truth</th>\n",
       "      <th>evolution_type</th>\n",
       "      <th>metadata</th>\n",
       "      <th>episode_done</th>\n",
       "    </tr>\n",
       "  </thead>\n",
       "  <tbody>\n",
       "    <tr>\n",
       "      <th>0</th>\n",
       "      <td>Based on the given context, I would form a que...</td>\n",
       "      <td>[Botafogo PLAYS_AGAINST Atlético-Go]</td>\n",
       "      <td>Botafogo is playing against Atlético-Go</td>\n",
       "      <td>simple</td>\n",
       "      <td>[{}]</td>\n",
       "      <td>True</td>\n",
       "    </tr>\n",
       "    <tr>\n",
       "      <th>1</th>\n",
       "      <td>Based on the given context, I would form a que...</td>\n",
       "      <td>[Igor Vinicius RECEIVED_YELLOW_CARD_FROM São P...</td>\n",
       "      <td>Receiving a yellow card in football means that...</td>\n",
       "      <td>simple</td>\n",
       "      <td>[{}]</td>\n",
       "      <td>True</td>\n",
       "    </tr>\n",
       "  </tbody>\n",
       "</table>\n",
       "</div>"
      ],
      "text/plain": [
       "                                            question  \\\n",
       "0  Based on the given context, I would form a que...   \n",
       "1  Based on the given context, I would form a que...   \n",
       "\n",
       "                                            contexts  \\\n",
       "0               [Botafogo PLAYS_AGAINST Atlético-Go]   \n",
       "1  [Igor Vinicius RECEIVED_YELLOW_CARD_FROM São P...   \n",
       "\n",
       "                                        ground_truth evolution_type metadata  \\\n",
       "0            Botafogo is playing against Atlético-Go         simple     [{}]   \n",
       "1  Receiving a yellow card in football means that...         simple     [{}]   \n",
       "\n",
       "   episode_done  \n",
       "0          True  \n",
       "1          True  "
      ]
     },
     "execution_count": 15,
     "metadata": {},
     "output_type": "execute_result"
    }
   ],
   "source": [
    "\n",
    "df = testset.to_pandas()\n",
    "# df.to_csv('testset.csv')\n",
    "df.head()"
   ]
  },
  {
   "cell_type": "code",
   "execution_count": null,
   "metadata": {},
   "outputs": [
    {
     "data": {
      "text/html": [
       "<div>\n",
       "<style scoped>\n",
       "    .dataframe tbody tr th:only-of-type {\n",
       "        vertical-align: middle;\n",
       "    }\n",
       "\n",
       "    .dataframe tbody tr th {\n",
       "        vertical-align: top;\n",
       "    }\n",
       "\n",
       "    .dataframe thead th {\n",
       "        text-align: right;\n",
       "    }\n",
       "</style>\n",
       "<table border=\"1\" class=\"dataframe\">\n",
       "  <thead>\n",
       "    <tr style=\"text-align: right;\">\n",
       "      <th></th>\n",
       "      <th>question</th>\n",
       "      <th>contexts</th>\n",
       "      <th>ground_truth</th>\n",
       "      <th>evolution_type</th>\n",
       "      <th>metadata</th>\n",
       "      <th>episode_done</th>\n",
       "    </tr>\n",
       "  </thead>\n",
       "  <tbody>\n",
       "    <tr>\n",
       "      <th>0</th>\n",
       "      <td>Based on the given context, I would form a que...</td>\n",
       "      <td>[Botafogo PLAYS_AGAINST Atlético-Go]</td>\n",
       "      <td>Botafogo is playing against Atlético-Go</td>\n",
       "      <td>simple</td>\n",
       "      <td>[{}]</td>\n",
       "      <td>True</td>\n",
       "    </tr>\n",
       "    <tr>\n",
       "      <th>1</th>\n",
       "      <td>Based on the given context, I would form a que...</td>\n",
       "      <td>[Igor Vinicius RECEIVED_YELLOW_CARD_FROM São P...</td>\n",
       "      <td>Receiving a yellow card in football means that...</td>\n",
       "      <td>simple</td>\n",
       "      <td>[{}]</td>\n",
       "      <td>True</td>\n",
       "    </tr>\n",
       "  </tbody>\n",
       "</table>\n",
       "</div>"
      ],
      "text/plain": [
       "                                            question  \\\n",
       "0  Based on the given context, I would form a que...   \n",
       "1  Based on the given context, I would form a que...   \n",
       "\n",
       "                                            contexts  \\\n",
       "0               [Botafogo PLAYS_AGAINST Atlético-Go]   \n",
       "1  [Igor Vinicius RECEIVED_YELLOW_CARD_FROM São P...   \n",
       "\n",
       "                                        ground_truth evolution_type metadata  \\\n",
       "0            Botafogo is playing against Atlético-Go         simple     [{}]   \n",
       "1  Receiving a yellow card in football means that...         simple     [{}]   \n",
       "\n",
       "   episode_done  \n",
       "0          True  \n",
       "1          True  "
      ]
     },
     "execution_count": 16,
     "metadata": {},
     "output_type": "execute_result"
    }
   ],
   "source": [
    "df[df[\"ground_truth\"] != \"nan\"]"
   ]
  },
  {
   "cell_type": "code",
   "execution_count": null,
   "metadata": {},
   "outputs": [
    {
     "data": {
      "text/plain": [
       "'Based on the given context, I would form a question that can be fully answered using the topic \"Atlético-Go\". Here\\'s my attempt:\\n\\ncontext: \"Botafogo PLAYS_AGAINST Atlético-Go\"\\nkeyphrase: \"Atlético-Go\"\\nquestion: \"Who is Botafogo playing against in this match?\"\\n\\nLet me know if I got it right!'"
      ]
     },
     "execution_count": 17,
     "metadata": {},
     "output_type": "execute_result"
    }
   ],
   "source": [
    "df.iloc[0][\"question\"]"
   ]
  },
  {
   "cell_type": "code",
   "execution_count": null,
   "metadata": {},
   "outputs": [],
   "source": []
  }
 ],
 "metadata": {
  "kernelspec": {
   "display_name": "local-ragas",
   "language": "python",
   "name": "python3"
  },
  "language_info": {
   "codemirror_mode": {
    "name": "ipython",
    "version": 3
   },
   "file_extension": ".py",
   "mimetype": "text/x-python",
   "name": "python",
   "nbconvert_exporter": "python",
   "pygments_lexer": "ipython3",
   "version": "3.12.3"
  }
 },
 "nbformat": 4,
 "nbformat_minor": 2
}
